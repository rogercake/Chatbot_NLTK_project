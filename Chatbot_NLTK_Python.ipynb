{
 "cells": [
  {
   "cell_type": "markdown",
   "id": "374bfb45",
   "metadata": {},
   "source": [
    "<img src=https://www.nimble.com/blog/wp-content/uploads/2019/08/chatbot-2-730x365.jpg width=\"400\">"
   ]
  },
  {
   "cell_type": "markdown",
   "id": "dab78d8e",
   "metadata": {},
   "source": [
    "<h1 style=\"text-align:center;font-size:30px;\" > Chatbot Application Using NLTK </h1>"
   ]
  },
  {
   "cell_type": "markdown",
   "id": "f4b4a198",
   "metadata": {},
   "source": [
    "## Description\n",
    "Human language is astoundingly complex and diverse. When we write, we often misspell or abbreviate words, or omit punctuation. There is a lot of unstructured data around us. Natural language processing helps computers communicate with humans in their own language and scales other language-related tasks. NLP makes it possible for computers to read text, interpret it, measure sentiment and determine which parts are important.\n",
    "\n",
    "Understanding this will enable you to build the core component of any conversational chatbot. In this NLP application we will create the core engine of a chat bot. We will learn text classification using the techniques of natural language processing by using the nltk library."
   ]
  },
  {
   "cell_type": "markdown",
   "id": "09fab089",
   "metadata": {},
   "source": [
    "## Downloading and installing NLTK\n",
    "NLTK(Natural Language Toolkit) is a leading platform for building Python programs to work with human language data. It provides easy-to-use interfaces to over 50 corpora and lexical resources such as WordNet, along with a suite of text processing libraries for classification, tokenization, stemming, tagging, parsing, and semantic reasoning, wrappers for industrial-strength NLP libraries.\n",
    "\n",
    "[Natural Language Processing with Python](http://www.nltk.org/book/) provides a practical introduction to programming for language processing.\n",
    "\n",
    "For platform-specific instructions, read [here](https://www.nltk.org/install.html)\n",
    "\n"
   ]
  },
  {
   "cell_type": "code",
   "execution_count": 22,
   "id": "d7d30695",
   "metadata": {},
   "outputs": [],
   "source": [
    "#nltk.download()"
   ]
  },
  {
   "cell_type": "markdown",
   "id": "3f84ef18",
   "metadata": {},
   "source": [
    "## Importing Necessary Libraries"
   ]
  },
  {
   "cell_type": "code",
   "execution_count": 23,
   "id": "dedf0fb6",
   "metadata": {},
   "outputs": [],
   "source": [
    "import nltk\n",
    "import re\n",
    "import os\n",
    "import csv\n",
    "from nltk.stem.snowball import SnowballStemmer\n",
    "import random\n",
    "from nltk.classify import SklearnClassifier\n",
    "from nltk.tokenize import RegexpTokenizer\n",
    "from nltk.corpus import stopwords\n",
    "from nltk.stem.wordnet import WordNetLemmatizer\n",
    "import numpy as np\n",
    "import pandas as pd\n",
    "import string\n",
    "\n",
    "from wordcloud import WordCloud\n",
    "import matplotlib.pyplot as plt\n",
    "st_wrds = stopwords.words('english')\n",
    "stemmer = SnowballStemmer('english')\n",
    "lemma = WordNetLemmatizer()"
   ]
  },
  {
   "cell_type": "code",
   "execution_count": 24,
   "id": "33882d9f",
   "metadata": {},
   "outputs": [],
   "source": [
    "## Get multiple outputs in the same cell\n",
    "from IPython.core.interactiveshell import InteractiveShell\n",
    "InteractiveShell.ast_node_interactivity = \"all\"\n",
    "\n",
    "## Ignore all warnings\n",
    "import warnings\n",
    "warnings.filterwarnings('ignore')\n",
    "warnings.filterwarnings(action='ignore', category=DeprecationWarning)"
   ]
  },
  {
   "cell_type": "code",
   "execution_count": 25,
   "id": "d3d105b3",
   "metadata": {},
   "outputs": [],
   "source": [
    "## Display all rows and columns of a dataframe instead of a truncated version\n",
    "from IPython.display import display\n",
    "pd.set_option('display.max_columns', None)\n",
    "pd.set_option('display.max_rows', None)"
   ]
  },
  {
   "cell_type": "markdown",
   "id": "83549ae6",
   "metadata": {},
   "source": [
    "## Pre-Processing the text"
   ]
  },
  {
   "cell_type": "markdown",
   "id": "e1e0bda1",
   "metadata": {},
   "source": [
    "### Function to preprocess the text"
   ]
  },
  {
   "cell_type": "code",
   "execution_count": 26,
   "id": "84c5b42c",
   "metadata": {},
   "outputs": [],
   "source": [
    "\n",
    "def preprocess(sentence):\n",
    "    #converting every words to lowercase\n",
    "    sentence = sentence.lower()\n",
    "    \n",
    "    #remove chars that are not letter or numbers\n",
    "    #tokenizing sentence\n",
    "    tokenizer = RegexpTokenizer(r'\\w+')\n",
    "    tokens = tokenizer.tokenize(sentence)\n",
    "    \n",
    "    #filtering all the non alphabetical words\n",
    "    sentence = [word for word in tokens if word.isalpha()]\n",
    "    \n",
    "    #removing stop words\n",
    "    tokens = [word for word in sentence if not word in st_wrds]\n",
    "    return tokens"
   ]
  },
  {
   "cell_type": "code",
   "execution_count": 27,
   "id": "9777e8ec",
   "metadata": {},
   "outputs": [
    {
     "data": {
      "text/plain": [
       "[('bad', 'JJ'), ('performance', 'NN'), ('virat', 'NN')]"
      ]
     },
     "execution_count": 27,
     "metadata": {},
     "output_type": "execute_result"
    }
   ],
   "source": [
    "nltk.pos_tag(preprocess(\"This is very bad performance 20/5 in 10 over5s during to Virat 10kohli's can't you\"))"
   ]
  },
  {
   "cell_type": "markdown",
   "id": "b3f97838",
   "metadata": {},
   "source": [
    "### Function to filter important POS(Part Of Speech) tags"
   ]
  },
  {
   "cell_type": "code",
   "execution_count": 28,
   "id": "c398a3b5",
   "metadata": {},
   "outputs": [],
   "source": [
    "#This function will receive tuple of word with tag\n",
    "def extract_tagged(sentences):\n",
    "    features = []\n",
    "    for tagged_words in sentences:\n",
    "        word, tag = tagged_words\n",
    "        if tag=='NN' or tag == 'VBN' or tag == 'NNS' or tag == 'VBP' or tag == 'RB' or tag == 'VBZ' or tag == 'VBG' or tag =='PRP' or tag == 'JJ':\n",
    "            features.append(word)\n",
    "    return features"
   ]
  },
  {
   "cell_type": "markdown",
   "id": "a27678fd",
   "metadata": {},
   "source": [
    "### Function to extract text features after preprocessing and pos_tag filtering"
   ]
  },
  {
   "cell_type": "code",
   "execution_count": 29,
   "id": "4859f75f",
   "metadata": {},
   "outputs": [],
   "source": [
    "stemmer = SnowballStemmer('english')\n",
    "lemma = WordNetLemmatizer()\n",
    "\n",
    "def extract_feature(text):\n",
    "    #Calling function to  pre-process text\n",
    "    words = preprocess(text)\n",
    "    \n",
    "    #Getting tag of each word as list of tuple(word, tag) after pre-processing\n",
    "    tags = nltk.pos_tag(words)\n",
    "    #Calling function to filter important tags after pos tagging\n",
    "    extracted_feature = extract_tagged(tags)\n",
    "    \n",
    "    #stemming words\n",
    "    stemmed_words = [stemmer.stem(w) for w in extracted_feature]\n",
    "    \n",
    "    #lemmatizing words\n",
    "    result = [lemma.lemmatize(w) for w in stemmed_words]\n",
    "    \n",
    "    return result\n",
    "    "
   ]
  },
  {
   "cell_type": "markdown",
   "id": "b92d8bfd",
   "metadata": {},
   "source": [
    "## Implementing bag of words"
   ]
  },
  {
   "cell_type": "markdown",
   "id": "28af48cc",
   "metadata": {},
   "source": [
    "In simple terms, it’s a collection of words to represent a sentence, disregarding the order in which they appear."
   ]
  },
  {
   "cell_type": "code",
   "execution_count": 30,
   "id": "a1911174",
   "metadata": {},
   "outputs": [],
   "source": [
    "def word_feats(words):\n",
    "    return dict([(word, True) for word in words])"
   ]
  },
  {
   "cell_type": "markdown",
   "id": "24998b3a",
   "metadata": {},
   "source": [
    "# Parsing the Whole Document"
   ]
  },
  {
   "cell_type": "code",
   "execution_count": 31,
   "id": "23e7d334",
   "metadata": {},
   "outputs": [],
   "source": [
    "def extract_feature_from_doc(data):\n",
    "    result = []\n",
    "    corpus = []\n",
    "    # the response of chatbot\n",
    "    answers = {}\n",
    "    for (text, category, answer) in data:\n",
    "        #getting list of words after pre-processing each text\n",
    "        features = extract_feature(text)\n",
    "        \n",
    "        #appending words into empty list corpus and creating vocabulary\n",
    "        corpus.append(features)\n",
    "        result.append((word_feats(features), category))\n",
    "        answers[category] = answer\n",
    "    \n",
    "    return (result, sum(corpus, []), answers)"
   ]
  },
  {
   "cell_type": "code",
   "execution_count": 32,
   "id": "1fe5cd3e",
   "metadata": {},
   "outputs": [
    {
     "data": {
      "text/plain": [
       "([({'hello': True}, 'Greeting'),\n",
       "  ({'thank': True}, 'Exit'),\n",
       "  ({'help': True, 'requir': True, 'perform': True}, 'Ask')],\n",
       " ['hello', 'thank', 'help', 'requir', 'perform'],\n",
       " {'Greeting': 'How can i help you?',\n",
       "  'Exit': 'Glad to help you',\n",
       "  'Ask': 'Do you need more assitance'})"
      ]
     },
     "execution_count": 32,
     "metadata": {},
     "output_type": "execute_result"
    }
   ],
   "source": [
    "extract_feature_from_doc([['Hello','Greeting','How can i help you?'],\n",
    "                          ['Thank you', 'Exit', 'Glad to help you'],\n",
    "                          ['No help required on performance', 'Ask', 'Do you need more assitance']])"
   ]
  },
  {
   "cell_type": "markdown",
   "id": "a6cf6eb6",
   "metadata": {},
   "source": [
    "## Loading Document"
   ]
  },
  {
   "cell_type": "code",
   "execution_count": 33,
   "id": "6b9d6e22",
   "metadata": {},
   "outputs": [],
   "source": [
    "def get_doc_content(filepath):\n",
    "#    doc = os.path.join(filename)\n",
    "    with open(filepath, 'r') as content_file:\n",
    "        lines = csv.reader(content_file, delimiter = '|')\n",
    "        data = [x for x in lines if len(x) == 3]\n",
    "        return data"
   ]
  },
  {
   "cell_type": "code",
   "execution_count": 34,
   "id": "2ab2b8a2",
   "metadata": {},
   "outputs": [
    {
     "data": {
      "text/plain": [
       "'C:\\\\Users\\\\samee\\\\OneDrive\\\\Data_science\\\\ML_Projects\\\\1. Chatbot using NLTK'"
      ]
     },
     "execution_count": 34,
     "metadata": {},
     "output_type": "execute_result"
    }
   ],
   "source": [
    "os.getcwd()"
   ]
  },
  {
   "cell_type": "code",
   "execution_count": 35,
   "id": "c9cae439",
   "metadata": {},
   "outputs": [],
   "source": [
    "filepath = r'leaves.txt'\n",
    "data = get_doc_content(filepath)"
   ]
  },
  {
   "cell_type": "markdown",
   "id": "2eb88682",
   "metadata": {},
   "source": [
    "## Extracting Features, Corpus and Answers from data"
   ]
  },
  {
   "cell_type": "code",
   "execution_count": 36,
   "id": "a0c9ab9b",
   "metadata": {},
   "outputs": [],
   "source": [
    "features_data, corpus, answers = extract_feature_from_doc(data)"
   ]
  },
  {
   "cell_type": "code",
   "execution_count": 37,
   "id": "255f12fe",
   "metadata": {},
   "outputs": [
    {
     "data": {
      "text/plain": [
       "[({'hello': True}, 'Greetings'),\n",
       " ({'hi': True, 'hello': True}, 'Greetings'),\n",
       " ({'hi': True}, 'Greetings'),\n",
       " ({'hi': True}, 'Greetings'),\n",
       " ({'hi': True}, 'Greetings'),\n",
       " ({'hey': True}, 'Greetings'),\n",
       " ({'hello': True, 'hi': True}, 'Greetings'),\n",
       " ({'hey': True}, 'Greetings'),\n",
       " ({'hey': True, 'hi': True}, 'Greetings'),\n",
       " ({'hey': True, 'hello': True}, 'Greetings')]"
      ]
     },
     "execution_count": 37,
     "metadata": {},
     "output_type": "execute_result"
    }
   ],
   "source": [
    "features_data[:10]"
   ]
  },
  {
   "cell_type": "code",
   "execution_count": 38,
   "id": "8cd23dec",
   "metadata": {},
   "outputs": [
    {
     "data": {
      "text/plain": [
       "143"
      ]
     },
     "execution_count": 38,
     "metadata": {},
     "output_type": "execute_result"
    }
   ],
   "source": [
    "len(features_data)"
   ]
  },
  {
   "cell_type": "code",
   "execution_count": 39,
   "id": "43441d25",
   "metadata": {},
   "outputs": [
    {
     "name": "stdout",
     "output_type": "stream",
     "text": [
      "Total words in corpus  426\n"
     ]
    },
    {
     "data": {
      "text/plain": [
       "['want',\n",
       " 'help',\n",
       " 'need',\n",
       " 'help',\n",
       " 'help',\n",
       " 'want',\n",
       " 'help',\n",
       " 'want',\n",
       " 'assist',\n",
       " 'help',\n",
       " 'great',\n",
       " 'talk',\n",
       " 'great',\n",
       " 'thank',\n",
       " 'help',\n",
       " 'thank',\n",
       " 'thank',\n",
       " 'much',\n",
       " 'thank',\n",
       " 'thank']"
      ]
     },
     "execution_count": 39,
     "metadata": {},
     "output_type": "execute_result"
    }
   ],
   "source": [
    "print('Total words in corpus ', len(corpus))\n",
    "corpus[23:43]"
   ]
  },
  {
   "cell_type": "code",
   "execution_count": 40,
   "id": "e2cb1979",
   "metadata": {},
   "outputs": [
    {
     "name": "stdout",
     "output_type": "stream",
     "text": [
      "Unique words in corpus  36\n"
     ]
    }
   ],
   "source": [
    "print('Unique words in corpus ',len(set(corpus)))"
   ]
  },
  {
   "cell_type": "code",
   "execution_count": 41,
   "id": "6cb325bd",
   "metadata": {},
   "outputs": [
    {
     "data": {
      "text/plain": [
       "{'Greetings': 'Hello. I am Dexter. I will serve your leave enquiries.',\n",
       " 'Morning': 'Good Morning. I am Dexter. I will serve your leave enquiries.',\n",
       " 'Afternoon': 'Good afternoon. I am Dexter. I will serve your leave enquiries.',\n",
       " 'Evening': 'Good evening. I am Dexter. I will serve your leave enquiries.',\n",
       " 'Goodbye': 'Good night. Take care.',\n",
       " 'Opening': \"I'm fine! Thank you. How can I help you?\",\n",
       " 'Help': 'How can I help you?',\n",
       " 'No-Help': 'Ok sir/madam. No problem. Have a nice day.',\n",
       " 'Closing': \"It's glad to know that I have been helpful. Have a good day!\",\n",
       " 'Leaves-Type': 'Currently I know about two: annual and optional leaves.',\n",
       " 'Default-Utilized-Annual-Leaves': 'You have used 12 annual leaves.',\n",
       " 'Utilized-Annual-Leaves': 'You have taken 12 annual leaves.',\n",
       " 'Utilized-Optional-Leaves': 'You have taken 1 optional leaves.',\n",
       " 'Default-Balance-Annual-Leaves': 'You have 25 annual leaves left.',\n",
       " 'Balance-Annual-Leaves': 'You have 25 annual leaves remaining.',\n",
       " 'Balance-Optional-Leaves': 'You have 2 optional leaves remaining.',\n",
       " 'CF': 'You have 30 carry forward leaves.'}"
      ]
     },
     "execution_count": 41,
     "metadata": {},
     "output_type": "execute_result"
    }
   ],
   "source": [
    "answers"
   ]
  },
  {
   "cell_type": "markdown",
   "id": "c377258e",
   "metadata": {},
   "source": [
    "## Visualizing Wordcloud"
   ]
  },
  {
   "cell_type": "code",
   "execution_count": 42,
   "id": "3fd94271",
   "metadata": {},
   "outputs": [
    {
     "data": {
      "text/plain": [
       "<Figure size 720x720 with 0 Axes>"
      ]
     },
     "execution_count": 42,
     "metadata": {},
     "output_type": "execute_result"
    },
    {
     "data": {
      "text/plain": [
       "<matplotlib.image.AxesImage at 0x2037177fd30>"
      ]
     },
     "execution_count": 42,
     "metadata": {},
     "output_type": "execute_result"
    },
    {
     "data": {
      "text/plain": [
       "(-0.5, 7999.5, 3999.5, -0.5)"
      ]
     },
     "execution_count": 42,
     "metadata": {},
     "output_type": "execute_result"
    },
    {
     "data": {
      "image/png": "[encoded data removed]",
      "text/plain": [
       "<Figure size 720x720 with 1 Axes>"
      ]
     },
     "metadata": {
      "needs_background": "light"
     },
     "output_type": "display_data"
    }
   ],
   "source": [
    "text = ' '.join(corpus)\n",
    "\n",
    "wordcloud = WordCloud(max_font_size=200,\n",
    "                      max_words=len(corpus),\n",
    "                      background_color='white',\n",
    "                      scale=10,\n",
    "                      width=800,\n",
    "                      height=400).generate(text)\n",
    "plt.figure(figsize=(10,10))\n",
    "plt.imshow(wordcloud,\n",
    "           interpolation='bilinear') #to make the displayed image appear more smoothly\n",
    "plt.axis('off')\n",
    "plt.show()"
   ]
  },
  {
   "cell_type": "markdown",
   "id": "f07ecdc0",
   "metadata": {},
   "source": [
    "## Manually Splitting our whole data into Train and Test set"
   ]
  },
  {
   "cell_type": "markdown",
   "id": "97e2eb47",
   "metadata": {},
   "source": [
    "### Function to split our dataset"
   ]
  },
  {
   "cell_type": "code",
   "execution_count": 43,
   "id": "3d442b18",
   "metadata": {},
   "outputs": [],
   "source": [
    "def split_dataset(data, split_ratio):\n",
    "    random.seed(23)\n",
    "    random.shuffle(data)\n",
    "    data_length = len(data)\n",
    "    train_split = int(data_length * split_ratio)\n",
    "    return (data[:train_split]), (data[train_split:])"
   ]
  },
  {
   "cell_type": "code",
   "execution_count": 44,
   "id": "79e18e55",
   "metadata": {},
   "outputs": [],
   "source": [
    "#defining the split ratio\n",
    "split_ratio = 0.8\n",
    "training_data, test_data = split_dataset(features_data, split_ratio)"
   ]
  },
  {
   "cell_type": "code",
   "execution_count": 45,
   "id": "95d0336d",
   "metadata": {},
   "outputs": [
    {
     "data": {
      "text/plain": [
       "[({'want': True, 'help': True}, 'No-Help'),\n",
       " ({'annual': True, 'leav': True, 'remain': True}, 'Balance-Annual-Leaves'),\n",
       " ({'hey': True}, 'Greetings'),\n",
       " ({'number': True,\n",
       "   'option': True,\n",
       "   'leav': True,\n",
       "   'alreadi': True,\n",
       "   'taken': True},\n",
       "  'Utilized-Optional-Leaves'),\n",
       " ({'annual': True, 'leav': True}, 'Balance-Annual-Leaves'),\n",
       " ({'option': True, 'leav': True, 'count': True, 'remain': True},\n",
       "  'Balance-Optional-Leaves'),\n",
       " ({'mani': True, 'carri': True, 'forward': True, 'leav': True}, 'CF'),\n",
       " ({'number': True, 'option': True, 'leav': True}, 'Utilized-Optional-Leaves'),\n",
       " ({'option': True, 'leav': True, 'balanc': True}, 'Balance-Optional-Leaves'),\n",
       " ({'option': True, 'leav': True, 'taken': True}, 'Utilized-Optional-Leaves'),\n",
       " ({'forward': True, 'leav': True}, 'CF'),\n",
       " ({'mani': True, 'annual': True, 'leav': True}, 'Balance-Annual-Leaves'),\n",
       " ({'annual': True, 'leav': True, 'balanc': True}, 'Balance-Annual-Leaves'),\n",
       " ({'leav': True, 'pend': True}, 'Default-Balance-Annual-Leaves'),\n",
       " ({'leav': True, 'type': True}, 'Leaves-Type')]"
      ]
     },
     "execution_count": 45,
     "metadata": {},
     "output_type": "execute_result"
    }
   ],
   "source": [
    "training_data[:15]"
   ]
  },
  {
   "cell_type": "markdown",
   "id": "a218f2dd",
   "metadata": {},
   "source": [
    "## Saving the data"
   ]
  },
  {
   "cell_type": "code",
   "execution_count": 46,
   "id": "7392b67e",
   "metadata": {},
   "outputs": [],
   "source": [
    "np.save('training_data', training_data)\n",
    "np.save('test_data', test_data)"
   ]
  },
  {
   "cell_type": "markdown",
   "id": "15b6c36e",
   "metadata": {},
   "source": [
    "## Model Prepration"
   ]
  },
  {
   "cell_type": "markdown",
   "id": "0fadb737",
   "metadata": {},
   "source": [
    "### 1. Classification using Decision Tree Classifier"
   ]
  },
  {
   "cell_type": "code",
   "execution_count": 47,
   "id": "a9ee249f",
   "metadata": {},
   "outputs": [],
   "source": [
    "def train_using_decision_tree(training_data, test_data):\n",
    "    \n",
    "    classifier = nltk.classify.DecisionTreeClassifier.train(training_data, entropy_cutoff = 0.6, support_cutoff=6)\n",
    "    classifier_name = type(classifier).__name__\n",
    "    print(classifier_name)\n",
    "    training_set_accuracy = nltk.classify.accuracy(classifier, training_data)\n",
    "    print('Training Set Accuracy: ', training_set_accuracy*100)\n",
    "    test_set_accuracy = nltk.classify.accuracy(classifier, test_data)\n",
    "    print('Test Set Accuracy: ', test_set_accuracy*100)\n",
    "    return classifier, classifier_name, training_set_accuracy, test_set_accuracy"
   ]
  },
  {
   "cell_type": "code",
   "execution_count": 48,
   "id": "37913271",
   "metadata": {},
   "outputs": [],
   "source": [
    "entropy = [0.1, 0.2]\n"
   ]
  },
  {
   "cell_type": "code",
   "execution_count": 49,
   "id": "56f829c9",
   "metadata": {},
   "outputs": [
    {
     "name": "stdout",
     "output_type": "stream",
     "text": [
      "DecisionTreeClassifier\n",
      "Training Set Accuracy:  90.35087719298247\n",
      "Test Set Accuracy:  82.75862068965517\n"
     ]
    }
   ],
   "source": [
    "dtclassifier, classifier_name, train_accuracy, test_accuracy = train_using_decision_tree(training_data, test_data)"
   ]
  },
  {
   "cell_type": "code",
   "execution_count": 50,
   "id": "d4545048",
   "metadata": {},
   "outputs": [
    {
     "name": "stdout",
     "output_type": "stream",
     "text": [
      "if annual == None: \n",
      "  if option == None: \n",
      "    if forward == None: \n",
      "      if leav == None: return 'Closing'\n",
      "      if leav == True: return 'Default-Balance-Annual-Leaves'\n",
      "    if forward == True: return 'CF'\n",
      "  if option == True: \n",
      "    if taken == None: \n",
      "      if use == None: return 'Balance-Optional-Leaves'\n",
      "      if use == True: return 'Utilized-Optional-Leaves'\n",
      "    if taken == True: return 'Utilized-Optional-Leaves'\n",
      "if annual == True: \n",
      "  if taken == None: return 'Balance-Annual-Leaves'\n",
      "  if taken == True: return 'Utilized-Annual-Leaves'\n",
      "\n"
     ]
    }
   ],
   "source": [
    "print(dtclassifier.pseudocode())"
   ]
  },
  {
   "cell_type": "markdown",
   "id": "630c4c79",
   "metadata": {},
   "source": [
    "### 2. Classification using Naive Bayes"
   ]
  },
  {
   "cell_type": "code",
   "execution_count": 51,
   "id": "98736295",
   "metadata": {},
   "outputs": [],
   "source": [
    "def train_using_naive_bayes(training_data, test_data):\n",
    "    classifier = nltk.NaiveBayesClassifier.train(training_data)\n",
    "    classifier_name = type(classifier).__name__\n",
    "    training_set_accuracy = nltk.classify.accuracy(classifier, training_data)\n",
    "    test_set_accuracy = nltk.classify.accuracy(classifier, test_data)\n",
    "    return classifier, classifier_name, training_set_accuracy, test_set_accuracy"
   ]
  },
  {
   "cell_type": "code",
   "execution_count": 52,
   "id": "8ea1a167",
   "metadata": {},
   "outputs": [
    {
     "name": "stdout",
     "output_type": "stream",
     "text": [
      "NaiveBayesClassifier\n",
      "Training Set Accuracy:  86.8421052631579\n",
      "Test Set Accuracy:  75.86206896551724\n",
      "****************************************\n",
      "66\n",
      "Most Informative Features\n",
      "                    leav = None           Closin : Balanc =     13.6 : 1.0\n",
      "                    mani = True           Defaul : CF     =      7.0 : 1.0\n",
      "                 alreadi = True           Defaul : Utiliz =      5.7 : 1.0\n",
      "                   thank = None           Balanc : Closin =      4.6 : 1.0\n",
      "                    help = True             Help : Closin =      4.1 : 1.0\n",
      "                   taken = None           Balanc : Utiliz =      3.9 : 1.0\n",
      "                   carri = None           Balanc : CF     =      3.0 : 1.0\n",
      "                    take = True           Defaul : Balanc =      2.8 : 1.0\n",
      "                   count = True           Utiliz : Utiliz =      2.7 : 1.0\n",
      "                    help = None           Balanc : No-Hel =      2.6 : 1.0\n",
      "None\n"
     ]
    }
   ],
   "source": [
    "NBclassifier, classifier_name, train_set_accuracy, test_set_accuracy = train_using_naive_bayes(training_data, test_data)\n",
    "print(classifier_name)\n",
    "print('Training Set Accuracy: ', train_set_accuracy*100)\n",
    "print('Test Set Accuracy: ', test_set_accuracy*100)\n",
    "print('*'*40)\n",
    "print(len(NBclassifier.most_informative_features()))\n",
    "print(NBclassifier.show_most_informative_features())"
   ]
  },
  {
   "cell_type": "code",
   "execution_count": 53,
   "id": "001da069",
   "metadata": {},
   "outputs": [
    {
     "data": {
      "text/plain": [
       "'Utilized-Optional-Leaves'"
      ]
     },
     "execution_count": 53,
     "metadata": {},
     "output_type": "execute_result"
    }
   ],
   "source": [
    "NBclassifier.classify(({'mani': True, 'option': True, 'leav': True}))"
   ]
  },
  {
   "cell_type": "code",
   "execution_count": 54,
   "id": "e2eb0cb8",
   "metadata": {},
   "outputs": [
    {
     "data": {
      "text/plain": [
       "'Balance-Optional-Leaves'"
      ]
     },
     "execution_count": 54,
     "metadata": {},
     "output_type": "execute_result"
    }
   ],
   "source": [
    "dtclassifier.classify(({'mani': True, 'option': True, 'leav': True}))"
   ]
  },
  {
   "cell_type": "markdown",
   "id": "b7570534",
   "metadata": {},
   "source": [
    "## Testing the chatbot working"
   ]
  },
  {
   "cell_type": "markdown",
   "id": "781a982a",
   "metadata": {},
   "source": [
    "### Finding the category of input tex"
   ]
  },
  {
   "cell_type": "code",
   "execution_count": 55,
   "id": "2e832cc5",
   "metadata": {},
   "outputs": [
    {
     "name": "stdout",
     "output_type": "stream",
     "text": [
      "Enter the Query:- the virat gas 9 ho6 fr\n"
     ]
    },
    {
     "data": {
      "text/plain": [
       "'Greetings'"
      ]
     },
     "execution_count": 55,
     "metadata": {},
     "output_type": "execute_result"
    }
   ],
   "source": [
    "dtclassifier.classify(word_feats(extract_feature(input('Enter the Query:- '))))"
   ]
  },
  {
   "cell_type": "markdown",
   "id": "06097ee8",
   "metadata": {},
   "source": [
    "### Function to reply the user based on input text"
   ]
  },
  {
   "cell_type": "code",
   "execution_count": 56,
   "id": "340825fb",
   "metadata": {},
   "outputs": [],
   "source": [
    "def reply(input_sentence):\n",
    "    category = dtclassifier.classify(word_feats(extract_feature(input_sentence)))\n",
    "    return answers[category]"
   ]
  },
  {
   "cell_type": "markdown",
   "id": "cdf59424",
   "metadata": {},
   "source": [
    "### Testing final chatbot"
   ]
  },
  {
   "cell_type": "code",
   "execution_count": 57,
   "id": "656d2393",
   "metadata": {},
   "outputs": [
    {
     "data": {
      "text/plain": [
       "'Hello. I am Dexter. I will serve your leave enquiries.'"
      ]
     },
     "execution_count": 57,
     "metadata": {},
     "output_type": "execute_result"
    }
   ],
   "source": [
    "reply('Hi')"
   ]
  },
  {
   "cell_type": "code",
   "execution_count": 58,
   "id": "17308ac5",
   "metadata": {},
   "outputs": [
    {
     "data": {
      "text/plain": [
       "'You have 25 annual leaves remaining.'"
      ]
     },
     "execution_count": 58,
     "metadata": {},
     "output_type": "execute_result"
    }
   ],
   "source": [
    "reply('How many annual leaves do i have?')"
   ]
  },
  {
   "cell_type": "code",
   "execution_count": 59,
   "id": "301d7edf",
   "metadata": {},
   "outputs": [
    {
     "data": {
      "text/plain": [
       "'You have 25 annual leaves left.'"
      ]
     },
     "execution_count": 59,
     "metadata": {},
     "output_type": "execute_result"
    }
   ],
   "source": [
    "reply('how many leaves have i taken')"
   ]
  },
  {
   "cell_type": "code",
   "execution_count": 60,
   "id": "dc11d008",
   "metadata": {},
   "outputs": [
    {
     "data": {
      "text/plain": [
       "\"It's glad to know that I have been helpful. Have a good day!\""
      ]
     },
     "execution_count": 60,
     "metadata": {},
     "output_type": "execute_result"
    }
   ],
   "source": [
    "reply('thanks')"
   ]
  },
  {
   "cell_type": "code",
   "execution_count": 61,
   "id": "e2403ea7",
   "metadata": {},
   "outputs": [],
   "source": [
    "# How many types of leaves are there?\n",
    "# How many leaves have I taken?\n",
    "# How many optional leaves have I taken?\n",
    "# number of carry forward leaves I have?"
   ]
  },
  {
   "cell_type": "code",
   "execution_count": null,
   "id": "acd3ded7",
   "metadata": {},
   "outputs": [],
   "source": []
  }
 ],
 "metadata": {
  "kernelspec": {
   "display_name": "Python 3 (ipykernel)",
   "language": "python",
   "name": "python3"
  },
  "language_info": {
   "codemirror_mode": {
    "name": "ipython",
    "version": 3
   },
   "file_extension": ".py",
   "mimetype": "text/x-python",
   "name": "python",
   "nbconvert_exporter": "python",
   "pygments_lexer": "ipython3",
   "version": "3.9.7"
  }
 },
 "nbformat": 4,
 "nbformat_minor": 5
}
